{
 "cells": [
  {
   "cell_type": "markdown",
   "metadata": {},
   "source": [
    "<h3> 9. Palindrome Number </h3>"
   ]
  },
  {
   "cell_type": "code",
   "execution_count": 2,
   "metadata": {},
   "outputs": [
    {
     "name": "stdout",
     "output_type": "stream",
     "text": [
      "[False, True, True, False, True]\n"
     ]
    }
   ],
   "source": [
    "class Solution1:\n",
    "    def isPalindrome(self, x: int) -> bool:\n",
    "        if str(x) == str(x)[::-1]:\n",
    "            return True\n",
    "        return False\n",
    "\n",
    "lst = [123,121,11,-121,1]\n",
    "rslt = []\n",
    "obj = Solution1()\n",
    "for i in lst:\n",
    "    rslt.append(obj.isPalindrome(i))\n",
    "\n",
    "print(rslt)    "
   ]
  },
  {
   "cell_type": "code",
   "execution_count": 27,
   "metadata": {},
   "outputs": [
    {
     "name": "stdout",
     "output_type": "stream",
     "text": [
      "[False, True, True, False, True]\n"
     ]
    }
   ],
   "source": [
    "class Solution2:\n",
    "    def isPalindrome(self, x: int) -> bool:\n",
    "        lst = []\n",
    "        num = abs(x)\n",
    "        if num // 10 == 0:\n",
    "            return True\n",
    "        else:\n",
    "            while(num != 0):\n",
    "                lst.append(num % 10)\n",
    "                num = num // 10\n",
    "        \n",
    "        if x >= 0 and str(x) ==  ''.join(map(str,lst)): return True\n",
    "        elif str(x) == (''.join(map(str,lst)) + '-'): return True\n",
    "        else: return False\n",
    "\n",
    "lst = [123,121,11,-121,1]\n",
    "for i in lst:\n",
    "    rslt.append(obj.isPalindrome(i))\n",
    "\n",
    "print(rslt)  "
   ]
  }
 ],
 "metadata": {
  "kernelspec": {
   "display_name": "myPythonEnv",
   "language": "python",
   "name": "python3"
  },
  "language_info": {
   "codemirror_mode": {
    "name": "ipython",
    "version": 3
   },
   "file_extension": ".py",
   "mimetype": "text/x-python",
   "name": "python",
   "nbconvert_exporter": "python",
   "pygments_lexer": "ipython3",
   "version": "3.11.0"
  }
 },
 "nbformat": 4,
 "nbformat_minor": 2
}
