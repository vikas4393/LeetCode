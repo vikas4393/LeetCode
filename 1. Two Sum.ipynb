{
 "cells": [
  {
   "cell_type": "markdown",
   "metadata": {},
   "source": [
    "<h3> 1. Two Sum </h3>"
   ]
  },
  {
   "cell_type": "code",
   "execution_count": 9,
   "metadata": {},
   "outputs": [
    {
     "data": {
      "text/plain": [
       "[1, 2]"
      ]
     },
     "execution_count": 9,
     "metadata": {},
     "output_type": "execute_result"
    }
   ],
   "source": [
    "class Solution1:\n",
    "    def twoSum(self, nums: list[int], target: int) -> list[int]:\n",
    "       for i in range(len(nums)):\n",
    "           other_val = target - nums[i]\n",
    "           if other_val in nums and nums.index(other_val) != i:\n",
    "               return [i,nums.index(other_val)]\n",
    "\n",
    "nums = [2,7,11,15]\n",
    "target = 18\n",
    "obj = Solution1()\n",
    "obj.twoSum(nums,target)"
   ]
  },
  {
   "cell_type": "code",
   "execution_count": 10,
   "metadata": {},
   "outputs": [
    {
     "data": {
      "text/plain": [
       "[1, 2]"
      ]
     },
     "execution_count": 10,
     "metadata": {},
     "output_type": "execute_result"
    }
   ],
   "source": [
    "class Solution2:\n",
    "    def twoSum(self, nums: list[int], target: int) -> list[int]:\n",
    "       for i in range(len(nums)):\n",
    "           for j in range(i+1,len(nums)):\n",
    "               if nums[i] + nums[j] == target:\n",
    "                   return [i,j]\n",
    "\n",
    "nums = [2,7,11,15]\n",
    "target = 18\n",
    "obj = Solution2()\n",
    "obj.twoSum(nums,target)"
   ]
  },
  {
   "cell_type": "code",
   "execution_count": null,
   "metadata": {},
   "outputs": [],
   "source": []
  }
 ],
 "metadata": {
  "kernelspec": {
   "display_name": "myPythonEnv",
   "language": "python",
   "name": "python3"
  },
  "language_info": {
   "codemirror_mode": {
    "name": "ipython",
    "version": 3
   },
   "file_extension": ".py",
   "mimetype": "text/x-python",
   "name": "python",
   "nbconvert_exporter": "python",
   "pygments_lexer": "ipython3",
   "version": "3.11.0"
  }
 },
 "nbformat": 4,
 "nbformat_minor": 2
}
